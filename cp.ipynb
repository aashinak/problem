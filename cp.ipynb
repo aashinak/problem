{
  "cells": [
    {
      "cell_type": "markdown",
      "metadata": {
        "id": "view-in-github",
        "colab_type": "text"
      },
      "source": [
        "<a href=\"https://colab.research.google.com/github/aashinak/problem/blob/main/cp.ipynb\" target=\"_parent\"><img src=\"https://colab.research.google.com/assets/colab-badge.svg\" alt=\"Open In Colab\"/></a>"
      ]
    },
    {
      "cell_type": "code",
      "execution_count": null,
      "metadata": {
        "colab": {
          "background_save": true,
          "base_uri": "https://localhost:8080/"
        },
        "id": "djLGCc1Urf_g",
        "outputId": "dc674820-7bd8-4be5-be40-99078d765c9e"
      },
      "outputs": [
        {
          "name": "stdout",
          "output_type": "stream",
          "text": [
            "[101, 0, 3, 3, 1000, 5000, 10, 4, 6, 100]\n",
            "largest number in the list is: 5000\n",
            "second largest number in the list is: 1000\n",
            "largest even number in the list: 5000\n",
            "largest odd number in the list: 101\n",
            "list of even numbers: [5000, 1000, 100, 10, 6, 4, 0]\n",
            "list of odd numbers: [101, 3, 3]\n"
          ]
        }
      ],
      "source": [
        "#Python Program to Find Largest Number in a List\n",
        "l1 = [101,0,3,3,1000,5000,10,4,6,100]\n",
        "print(l1)\n",
        "l1.sort()\n",
        "print('largest number in the list is:',l1[len(l1)-1])\n",
        "\n",
        "#Python Program to Find Second Largest Number in a List\n",
        "print('second largest number in the list is:',l1[len(l1)-2])\n",
        "\n",
        "#Python Program to Print Largest Even and Largest Odd Number in a List\n",
        "length = len(l1)\n",
        "i=length-1\n",
        "even = 0\n",
        "odd = 0\n",
        "while i>=0:\n",
        "  if (l1[i]%2==0 and l1[i]>even):\n",
        "    even=l1[i]\n",
        "  elif (l1[i]%2==1 and l1[i]>odd):\n",
        "    odd=l1[i]\n",
        "  i-=1\n",
        "print('largest even number in the list:',even)\n",
        "print('largest odd number in the list:',odd)\n",
        "\n",
        "#Python Program to Split Even and Odd Elements into Two Lists\n",
        "reven = []\n",
        "rodd= []\n",
        "j = 0\n",
        "k = 0\n",
        "i = length-1\n",
        "while i>=0:\n",
        "  if(l1[i]%2==0):\n",
        "    reven.insert(j,l1[i])\n",
        "    j+=1\n",
        "  elif(l1[i]%2==1):\n",
        "    rodd.insert(k,l1[i])\n",
        "    k+=1\n",
        "  i-=1\n",
        "print('list of even numbers:',reven)\n",
        "print('list of odd numbers:',rodd)\n",
        "\n",
        "#Python Program to Find Average of a List\n",
        "i=0\n",
        "sum = 0\n",
        "while(i<length):\n",
        "  sum += l1[i]\n",
        "print(sum/length)\n",
        "\n",
        "\n",
        "    \n"
      ]
    }
  ],
  "metadata": {
    "colab": {
      "provenance": [],
      "authorship_tag": "ABX9TyOql0IfZog8IrjDTZOOmYuV",
      "include_colab_link": true
    },
    "kernelspec": {
      "display_name": "Python 3",
      "name": "python3"
    },
    "language_info": {
      "name": "python"
    }
  },
  "nbformat": 4,
  "nbformat_minor": 0
}