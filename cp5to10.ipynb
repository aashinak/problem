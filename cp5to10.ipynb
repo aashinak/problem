{
  "nbformat": 4,
  "nbformat_minor": 0,
  "metadata": {
    "colab": {
      "provenance": [],
      "authorship_tag": "ABX9TyPhYKMgfMgzhvgmIbPMDxo+",
      "include_colab_link": true
    },
    "kernelspec": {
      "name": "python3",
      "display_name": "Python 3"
    },
    "language_info": {
      "name": "python"
    }
  },
  "cells": [
    {
      "cell_type": "markdown",
      "metadata": {
        "id": "view-in-github",
        "colab_type": "text"
      },
      "source": [
        "<a href=\"https://colab.research.google.com/github/aashinak/problem/blob/main/cp5to10.ipynb\" target=\"_parent\"><img src=\"https://colab.research.google.com/assets/colab-badge.svg\" alt=\"Open In Colab\"/></a>"
      ]
    },
    {
      "cell_type": "code",
      "execution_count": 43,
      "metadata": {
        "colab": {
          "base_uri": "https://localhost:8080/"
        },
        "id": "O8WvSXNIqS0M",
        "outputId": "c0d2ecf6-ad0f-472a-ac74-430e54840e5c"
      },
      "outputs": [
        {
          "output_type": "stream",
          "name": "stdout",
          "text": [
            "Sum of positive numbers: 20\n",
            "Sum of negative numbers: 0\n",
            "Sum of odd numbers: 14\n",
            "Sum of even numbers: 6\n",
            "\n",
            "5 - repeats 2 times\n",
            "length of list: 6\n",
            "[0, 1, 2, 3, 4, 5, 5, 10, 100, 1000]\n"
          ]
        }
      ],
      "source": [
        "#Python Program to Print Sum of Negative Numbers, Positive Even & Odd Numbers in a List\n",
        "#l1 =[0,100,0,-1,3,-9,2,8,0,23,-6,-1,3,0,-100,100,-100]\n",
        "l1=[1,2,3,4,5,5]\n",
        "length =len(l1)\n",
        "nSum=evenSum=oddSum=pSum=0\n",
        "for i in l1:\n",
        "  if(i<0):\n",
        "    nSum+=i\n",
        "  if(i>0):\n",
        "    pSum+=i\n",
        "  if(i%2==0 and i>0):\n",
        "    evenSum+=i\n",
        "  if(i%2!=0 and i>0):\n",
        "    oddSum+=i\n",
        "print('Sum of positive numbers:',pSum)\n",
        "print('Sum of negative numbers:',nSum)\n",
        "print('Sum of odd numbers:',oddSum)\n",
        "print('Sum of even numbers:',evenSum)\n",
        "print()\n",
        "\n",
        "#Python Program to Count Occurrences of Element in List\n",
        "l1.sort()\n",
        "j=0\n",
        "for i in l1:\n",
        "  c=l1.count(i)\n",
        "  if(c>1 and j!=i):\n",
        "   print(i,'-','repeats',c,'times')\n",
        "  j=i\n",
        "\n",
        "#Python Program to Find the Sum of Elements in a List using Recursion\n",
        "i=0\n",
        "def sum(i):\n",
        "  if i>=length:\n",
        "    return 0\n",
        "  else:\n",
        "    return l1[i]+sum(i+1)\n",
        "sum(0)\n",
        "\n",
        "#Python Program to Find the Length of a List using Recursion\n",
        "i=0\n",
        "def leng(l1):\n",
        "  global i\n",
        "  if l1:\n",
        "    i=i+1\n",
        "    leng(l1[1:])\n",
        "    return i\n",
        "   \n",
        "print('length of list:',leng(l1))\n",
        "\n",
        "#Python Program to Merge Two Lists and Sort it\n",
        "l2 =[0,10,100,1000]\n",
        "l1.extend(l2)\n",
        "l1.sort()\n",
        "print(l1)\n",
        "\n",
        "\n",
        "\n",
        "\n",
        "  "
      ]
    }
  ]
}